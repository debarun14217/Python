{
 "cells": [
  {
   "cell_type": "code",
   "execution_count": 3,
   "metadata": {},
   "outputs": [
    {
     "name": "stdout",
     "output_type": "stream",
     "text": [
      "datarange --> [ 0  1  2  3  4  5  6  7  8  9 10 11 12 13 14 15 16 17 18 19]\n"
     ]
    }
   ],
   "source": [
    "import numpy as np\n",
    "datarange = np.arange(0,20)\n",
    "print(\"datarange --> \" + str(datarange))"
   ]
  },
  {
   "cell_type": "code",
   "execution_count": 4,
   "metadata": {},
   "outputs": [
    {
     "name": "stdout",
     "output_type": "stream",
     "text": [
      "type of datarange --> <class 'numpy.ndarray'>\n"
     ]
    }
   ],
   "source": [
    "print(\"type of datarange --> \" + str(type(datarange)))"
   ]
  },
  {
   "cell_type": "code",
   "execution_count": 7,
   "metadata": {},
   "outputs": [
    {
     "name": "stdout",
     "output_type": "stream",
     "text": [
      "matrix1 --> \n",
      "[[ 0  1  2  3]\n",
      " [ 4  5  6  7]\n",
      " [ 8  9 10 11]\n",
      " [12 13 14 15]\n",
      " [16 17 18 19]]\n"
     ]
    }
   ],
   "source": [
    "##----creating an matrix / 2-dimensional array from datarange\n",
    "#matrix1 = np.reshape(datarange,(4,4)) ##--> it will throw an error --> ValueError: cannot reshape array of size 20 into shape (4,4)\n",
    "matrix1 = np.reshape(datarange,(5,4)) ##--> By default it will populate the data row-wise/horizontally in the new 2-dimensional array / matrix\n",
    "print(\"matrix1 --> \")\n",
    "print(str(matrix1))"
   ]
  },
  {
   "cell_type": "code",
   "execution_count": 20,
   "metadata": {},
   "outputs": [
    {
     "name": "stdout",
     "output_type": "stream",
     "text": [
      "matrix2 --> \n",
      "[[ 0  1  2  3  4]\n",
      " [ 5  6  7  8  9]\n",
      " [10 11 12 13 14]\n",
      " [15 16 17 18 19]]\n"
     ]
    }
   ],
   "source": [
    "matrix2 = np.reshape(datarange,(4,5),order='C') ##--> if you use order='C', that means the data will be arranged row-wise/horizontally in the new 2-dimensional array / matrix\n",
    "print(\"matrix2 --> \")\n",
    "print(str(matrix2))"
   ]
  },
  {
   "cell_type": "code",
   "execution_count": 10,
   "metadata": {},
   "outputs": [
    {
     "name": "stdout",
     "output_type": "stream",
     "text": [
      "matrix3 --> \n",
      "[[ 0  4  8 12 16]\n",
      " [ 1  5  9 13 17]\n",
      " [ 2  6 10 14 18]\n",
      " [ 3  7 11 15 19]]\n"
     ]
    }
   ],
   "source": [
    "matrix3 = np.reshape(datarange,(4,5),order='F') ##--> if you use order='F', that means data will be arranged column-wise/vertically in the new 2-dimensional array / matrix\n",
    "print(\"matrix3 --> \")\n",
    "print(str(matrix3))"
   ]
  },
  {
   "cell_type": "code",
   "execution_count": 27,
   "metadata": {},
   "outputs": [
    {
     "name": "stdout",
     "output_type": "stream",
     "text": [
      "matrix1 --> \n",
      "[[ 0  1  2  3]\n",
      " [ 4  5  6  7]\n",
      " [ 8  9 10 11]\n",
      " [12 13 14 15]\n",
      " [16 17 18 19]]\n",
      " \n",
      "matrix1[2,2] --> 10\n",
      " \n",
      "matrix1[2][2] --> 10\n",
      " \n",
      "item_10_loc --> (array([2], dtype=int64), array([2], dtype=int64))\n",
      " \n"
     ]
    }
   ],
   "source": [
    "##----printing matrix1\n",
    "print(\"matrix1 --> \")\n",
    "print(str(matrix1))\n",
    "print(\" \")\n",
    "\n",
    "##----want to find out the value 10 in matrix1\n",
    "print(\"matrix1[2,2] --> \" + str(matrix1[2,2]))\n",
    "print(\" \")\n",
    "\n",
    "##----want to find out the value 10 in matrix1\n",
    "print(\"matrix1[2][2] --> \" + str(matrix1[2][2]))\n",
    "print(\" \")\n",
    "\n",
    "##----want to find out the index of value 10 in matrix1\n",
    "item_10_loc = np.where(matrix1==10)\n",
    "print(\"item_10_loc --> \" + str(item_10_loc))\n",
    "print(\" \")"
   ]
  },
  {
   "cell_type": "code",
   "execution_count": 30,
   "metadata": {},
   "outputs": [
    {
     "name": "stdout",
     "output_type": "stream",
     "text": [
      "matrix2 --> \n",
      "[[ 0  1  2  3  4]\n",
      " [ 5  6  7  8  9]\n",
      " [10 11 12 13 14]\n",
      " [15 16 17 18 19]]\n",
      " \n",
      "item_19_loc --> (array([3], dtype=int64), array([4], dtype=int64))\n",
      " \n",
      "matrix2[3,4] --> 19\n",
      " \n"
     ]
    }
   ],
   "source": [
    "##----printing matrix2\n",
    "print(\"matrix2 --> \")\n",
    "print(str(matrix2))\n",
    "print(\" \")\n",
    "\n",
    "##----want to find out the value 19 in matrix2\n",
    "item_19_loc = np.where(matrix2 == 19)\n",
    "print (\"item_19_loc --> \" + str(item_19_loc))\n",
    "print(\" \")\n",
    "\n",
    "##----want to find out the value 19 in matrix2\n",
    "print(\"matrix2[3,4] --> \" + str(matrix2[3,4]))\n",
    "print(\" \")"
   ]
  },
  {
   "cell_type": "code",
   "execution_count": 32,
   "metadata": {},
   "outputs": [
    {
     "name": "stdout",
     "output_type": "stream",
     "text": [
      "matrix3 --> \n",
      "[[ 0  4  8 12 16]\n",
      " [ 1  5  9 13 17]\n",
      " [ 2  6 10 14 18]\n",
      " [ 3  7 11 15 19]]\n",
      " \n",
      "item_16_loc --> (array([0], dtype=int64), array([4], dtype=int64))\n",
      " \n",
      "matrix3[0,4] --> 16\n",
      " \n",
      "matrix3[0][4] --> 16\n",
      " \n"
     ]
    }
   ],
   "source": [
    "##----printing matrix3\n",
    "print(\"matrix3 --> \")\n",
    "print(str(matrix3))\n",
    "print(\" \")\n",
    "\n",
    "##----want to find out the value 16 in matrix3\n",
    "item_16_loc = np.where(matrix3 == 16)\n",
    "print (\"item_16_loc --> \" + str(item_16_loc))\n",
    "print(\" \")\n",
    "\n",
    "##----want to find out the value 16 in matrix3\n",
    "print(\"matrix3[0,4] --> \" + str(matrix3[0,4]))\n",
    "print(\" \")\n",
    "\n",
    "##----want to find out the value 16 in matrix3\n",
    "print(\"matrix3[0][4] --> \" + str(matrix3[0][4]))\n",
    "print(\" \")"
   ]
  },
  {
   "cell_type": "code",
   "execution_count": 35,
   "metadata": {},
   "outputs": [
    {
     "name": "stdout",
     "output_type": "stream",
     "text": [
      "datarange --> \n",
      "[ 0  1  2  3  4  5  6  7  8  9 10 11 12 13 14 15 16 17 18 19]\n",
      " \n",
      "type(datarange) --> <class 'numpy.ndarray'>\n",
      " \n",
      "datarange.reshape((5,4)) --> \n",
      "[[ 0  1  2  3]\n",
      " [ 4  5  6  7]\n",
      " [ 8  9 10 11]\n",
      " [12 13 14 15]\n",
      " [16 17 18 19]]\n"
     ]
    }
   ],
   "source": [
    "##----OOP concept\n",
    "##--we can directly call reshape function on datarange array\n",
    "print(\"datarange --> \")\n",
    "print(str(datarange))\n",
    "print(\" \")\n",
    "\n",
    "print(\"type(datarange) --> \" + str(type(datarange)))\n",
    "print(\" \")\n",
    "\n",
    "print(\"datarange.reshape((5,4)) --> \")\n",
    "print(str(datarange.reshape((5,4))))"
   ]
  },
  {
   "cell_type": "code",
   "execution_count": 41,
   "metadata": {},
   "outputs": [
    {
     "name": "stdout",
     "output_type": "stream",
     "text": [
      "l1 --> ['what', 'am', 'I']\n",
      " \n",
      "l2 --> ['You', 'are', 'future']\n",
      " \n",
      "l3 --> ['my', 'birth', 'date']\n",
      " \n",
      "l4 --> [23, 6, 2080]\n",
      " \n",
      "mar --> \n",
      "[['what' 'am' 'I']\n",
      " ['You' 'are' 'future']\n",
      " ['my' 'birth' 'date']\n",
      " ['23' '6' '2080']]\n",
      " \n",
      "All the data has been converted to character data in mar 2-dimensional arry / matrix\n"
     ]
    }
   ],
   "source": [
    "##----declaring three lists\n",
    "l1 = ['what','am','I']\n",
    "l2 = ['You','are','future']\n",
    "l3 = ['my','birth','date']\n",
    "l4 = [23,6,2080]\n",
    "\n",
    "print(\"l1 --> \" + str(l1))\n",
    "print(\" \")\n",
    "\n",
    "print(\"l2 --> \" + str(l2))\n",
    "print(\" \")\n",
    "\n",
    "print(\"l3 --> \" + str(l3))\n",
    "print(\" \")\n",
    "\n",
    "print(\"l4 --> \" + str(l4))\n",
    "print(\" \")\n",
    "\n",
    "mar = np.array([l1,l2,l3,l4])\n",
    "\n",
    "print(\"mar --> \") \n",
    "print(str(mar))\n",
    "print(\" \")\n",
    "\n",
    "print(\"All the data has been converted to character data in mar 2-dimensional arry / matrix\")"
   ]
  },
  {
   "cell_type": "code",
   "execution_count": null,
   "metadata": {},
   "outputs": [],
   "source": []
  }
 ],
 "metadata": {
  "kernelspec": {
   "display_name": "Python 3",
   "language": "python",
   "name": "python3"
  },
  "language_info": {
   "codemirror_mode": {
    "name": "ipython",
    "version": 3
   },
   "file_extension": ".py",
   "mimetype": "text/x-python",
   "name": "python",
   "nbconvert_exporter": "python",
   "pygments_lexer": "ipython3",
   "version": "3.6.5"
  }
 },
 "nbformat": 4,
 "nbformat_minor": 2
}
