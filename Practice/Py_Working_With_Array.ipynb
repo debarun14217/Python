{
 "cells": [
  {
   "cell_type": "code",
   "execution_count": 2,
   "metadata": {},
   "outputs": [
    {
     "name": "stdout",
     "output_type": "stream",
     "text": [
      "==========================================================\n",
      "                                                          \n",
      " Array arr1 --> \n",
      "[[100 101 102 103 104 105 106 107 108 109]\n",
      " [200 201 202 203 204 205 206 207 208 209]]\n",
      "                                                          \n",
      "==========================================================\n",
      "                                                          \n",
      "Type of arr1 --> <class 'numpy.ndarray'>\n",
      "                                                          \n",
      "==========================================================\n",
      "                                                          \n",
      "Sum of all vaules in arr1 --> 3090\n",
      "                                                          \n",
      "==========================================================\n",
      "                                                          \n",
      "Minimum value in arr1 --> 100\n",
      "                                                          \n",
      "==========================================================\n",
      "                                                          \n",
      "Maximum value in arr1 --> 209\n",
      "                                                          \n",
      "==========================================================\n",
      "                                                          \n",
      "Size of arr1 --> 20\n",
      "                                                          \n",
      "==========================================================\n",
      "                                                          \n",
      "Shape of arr1 --> (2, 10)\n",
      "                                                          \n",
      "==========================================================\n",
      "                                                          \n",
      "Memory location of arr1 --> <memory at 0x000000B78BCCECF0>\n",
      "                                                          \n",
      "==========================================================\n",
      "                                                          \n",
      "Datatype of arr1 --> int32\n",
      "                                                          \n",
      "==========================================================\n",
      "                                                          \n"
     ]
    }
   ],
   "source": [
    "##----importing python package --> numpy\n",
    "##----importing python package --> InteractiveShell\n",
    "import numpy as np\n",
    "from IPython.core.interactiveshell import InteractiveShell\n",
    "InteractiveShell.ast_node_interactivity = \"all\"\n",
    "\n",
    "arr1 = np.array([[100,101,102,103,104,105,106,107,108,109],[200,201,202,203,204,205,206,207,208,209]])\n",
    "\n",
    "print(\"==========================================================\")\n",
    "print(\"                                                          \")\n",
    "print(\" Array arr1 --> \")\n",
    "print(arr1)\n",
    "print(\"                                                          \")\n",
    "print(\"==========================================================\")\n",
    "print(\"                                                          \")\n",
    "print(\"Type of arr1 --> \" + str(type(arr1)))\n",
    "print(\"                                                          \")\n",
    "print(\"==========================================================\")\n",
    "print(\"                                                          \")\n",
    "print(\"Sum of all vaules in arr1 --> \" + str(arr1.sum()))\n",
    "print(\"                                                          \")\n",
    "print(\"==========================================================\")\n",
    "print(\"                                                          \")\n",
    "print(\"Minimum value in arr1 --> \" + str(arr1.min()))\n",
    "print(\"                                                          \")\n",
    "print(\"==========================================================\")\n",
    "print(\"                                                          \")\n",
    "print(\"Maximum value in arr1 --> \" + str(arr1.max()))\n",
    "print(\"                                                          \")\n",
    "print(\"==========================================================\")\n",
    "print(\"                                                          \")\n",
    "print(\"Size of arr1 --> \" + str(arr1.size))\n",
    "print(\"                                                          \")\n",
    "print(\"==========================================================\")\n",
    "print(\"                                                          \")\n",
    "print(\"Shape of arr1 --> \" + str(arr1.shape))\n",
    "print(\"                                                          \")\n",
    "print(\"==========================================================\")\n",
    "print(\"                                                          \")\n",
    "print(\"Memory location of arr1 --> \" + str(arr1.data))\n",
    "print(\"                                                          \")\n",
    "print(\"==========================================================\")\n",
    "print(\"                                                          \")\n",
    "print(\"Datatype of arr1 --> \" + str(arr1.dtype))\n",
    "print(\"                                                          \")\n",
    "print(\"==========================================================\")\n",
    "print(\"                                                          \")"
   ]
  },
  {
   "cell_type": "code",
   "execution_count": 39,
   "metadata": {},
   "outputs": [
    {
     "name": "stdout",
     "output_type": "stream",
     "text": [
      "                                                          \n",
      "==========================================================\n",
      "                                                          \n",
      "No of rows in arr1 --> 2\n",
      "                                                          \n",
      "==========================================================\n",
      "                                                          \n",
      "No of columns in arr1 --> 10\n",
      "                                                          \n",
      "==========================================================\n",
      "                                                          \n"
     ]
    }
   ],
   "source": [
    "rows,columns = arr1.shape\n",
    "print(\"                                                          \")\n",
    "print(\"==========================================================\")\n",
    "print(\"                                                          \")\n",
    "print(\"No of rows in arr1 --> \" + str(rows))\n",
    "print(\"                                                          \")\n",
    "print(\"==========================================================\")\n",
    "print(\"                                                          \")\n",
    "print(\"No of columns in arr1 --> \" + str(columns))\n",
    "print(\"                                                          \")\n",
    "print(\"==========================================================\")\n",
    "print(\"                                                          \")"
   ]
  },
  {
   "cell_type": "code",
   "execution_count": 40,
   "metadata": {},
   "outputs": [
    {
     "name": "stdout",
     "output_type": "stream",
     "text": [
      "Value of arr1[0][0] --> 100\n",
      "Value of arr1[0][1] --> 101\n",
      "Value of arr1[0][2] --> 102\n",
      "Value of arr1[0][3] --> 103\n",
      "Value of arr1[0][4] --> 104\n",
      "Value of arr1[0][5] --> 105\n",
      "Value of arr1[0][6] --> 106\n",
      "Value of arr1[0][7] --> 107\n",
      "Value of arr1[0][8] --> 108\n",
      "Value of arr1[0][9] --> 109\n",
      "Value of arr1[1][0] --> 200\n",
      "Value of arr1[1][1] --> 201\n",
      "Value of arr1[1][2] --> 202\n",
      "Value of arr1[1][3] --> 203\n",
      "Value of arr1[1][4] --> 204\n",
      "Value of arr1[1][5] --> 205\n",
      "Value of arr1[1][6] --> 206\n",
      "Value of arr1[1][7] --> 207\n",
      "Value of arr1[1][8] --> 208\n",
      "Value of arr1[1][9] --> 209\n"
     ]
    }
   ],
   "source": [
    "##----printing all the elements in arr1\n",
    "for i in range(0,rows):\n",
    "    for j in range(0,columns):\n",
    "        print(\"Value of arr1[\" + str(i) + \"][\" + str(j) + \"] --> \" + str(arr1[i][j]))"
   ]
  },
  {
   "cell_type": "code",
   "execution_count": 41,
   "metadata": {},
   "outputs": [
    {
     "name": "stdout",
     "output_type": "stream",
     "text": [
      "Value of arr1[0,0] --> 100\n",
      "Value of arr1[0,1] --> 101\n",
      "Value of arr1[0,2] --> 102\n",
      "Value of arr1[0,3] --> 103\n",
      "Value of arr1[0,4] --> 104\n",
      "Value of arr1[0,5] --> 105\n",
      "Value of arr1[0,6] --> 106\n",
      "Value of arr1[0,7] --> 107\n",
      "Value of arr1[0,8] --> 108\n",
      "Value of arr1[0,9] --> 109\n",
      "Value of arr1[1,0] --> 200\n",
      "Value of arr1[1,1] --> 201\n",
      "Value of arr1[1,2] --> 202\n",
      "Value of arr1[1,3] --> 203\n",
      "Value of arr1[1,4] --> 204\n",
      "Value of arr1[1,5] --> 205\n",
      "Value of arr1[1,6] --> 206\n",
      "Value of arr1[1,7] --> 207\n",
      "Value of arr1[1,8] --> 208\n",
      "Value of arr1[1,9] --> 209\n"
     ]
    }
   ],
   "source": [
    "##----printing all the elements in arr1\n",
    "for i in range(0,rows):\n",
    "    for j in range(0,columns):\n",
    "        print(\"Value of arr1[\" + str(i) + \",\" + str(j) + \"] --> \" + str(arr1[i,j]))"
   ]
  },
  {
   "cell_type": "code",
   "execution_count": 54,
   "metadata": {},
   "outputs": [
    {
     "name": "stdout",
     "output_type": "stream",
     "text": [
      "arr2 --> [208 209]\n",
      "                                                          \n",
      "==========================================================\n",
      "                                                          \n",
      "Type of arr2 --> <class 'numpy.ndarray'>\n"
     ]
    }
   ],
   "source": [
    "##----creating view on arr1\n",
    "arr2 = np.array([arr1[1,8],arr1[1,9]])\n",
    "\n",
    "print(\"arr2 --> \" + str(arr2))\n",
    "print(\"                                                          \")\n",
    "print(\"==========================================================\")\n",
    "print(\"                                                          \")\n",
    "print(\"Type of arr2 --> \" + str(type(arr2)))"
   ]
  },
  {
   "cell_type": "code",
   "execution_count": 63,
   "metadata": {},
   "outputs": [
    {
     "name": "stdout",
     "output_type": "stream",
     "text": [
      "==========================================================\n",
      "                                                          \n",
      "arr2 --> [208 215]\n",
      "                                                          \n",
      "==========================================================\n",
      "                                                          \n",
      "arr1 --> [[100 101 102 103 104 105 106 107 108 109]\n",
      " [200 201 202 203 204 205 206 207 208 209]]\n",
      "                                                          \n",
      "==========================================================\n",
      "                                                          \n",
      "No change in arr1\n",
      "                                                          \n",
      "==========================================================\n",
      "                                                          \n",
      "So the view is not created\n",
      "                                                          \n",
      "==========================================================\n"
     ]
    }
   ],
   "source": [
    "##----updating arr2\n",
    "arr2[1] = 215\n",
    "\n",
    "print(\"==========================================================\")\n",
    "print(\"                                                          \")\n",
    "print(\"arr2 --> \" + str(arr2))\n",
    "print(\"                                                          \")\n",
    "print(\"==========================================================\")\n",
    "print(\"                                                          \")\n",
    "print(\"arr1 --> \" + str(arr1))\n",
    "print(\"                                                          \")\n",
    "print(\"==========================================================\")\n",
    "print(\"                                                          \")  \n",
    "print(\"No change in arr1\")\n",
    "print(\"                                                          \")\n",
    "print(\"==========================================================\")\n",
    "print(\"                                                          \")\n",
    "print(\"So the view is not created\")\n",
    "print(\"                                                          \")\n",
    "print(\"==========================================================\")"
   ]
  },
  {
   "cell_type": "code",
   "execution_count": 32,
   "metadata": {},
   "outputs": [
    {
     "name": "stdout",
     "output_type": "stream",
     "text": [
      "==========================================================\n",
      "                                                          \n",
      "arr3 --> \n",
      "[[100 101 102 103 104 105 106 107 108 109]\n",
      " [200 201 202 203 204 205 206 207 208 209]]\n",
      "                                                          \n",
      "==========================================================\n",
      "                                                          \n",
      "Modifying value of arr3[1,9] from 209 to 309\n",
      "                                                          \n",
      "==========================================================\n",
      "                                                          \n",
      "Now arr3 --> \n",
      "[[100 101 102 103 104 105 106 107 108 109]\n",
      " [200 201 202 203 204 205 206 207 208 309]]\n",
      "                                                          \n",
      "==========================================================\n",
      "                                                          \n",
      "Value of arr1[1,9] is also modified now --> \n",
      "[[100 101 102 103 104 105 106 107 108 109]\n",
      " [200 201 202 203 204 205 206 207 208 309]]\n",
      "                                                          \n",
      "==========================================================\n",
      "                                                          \n",
      "Creating another array arr4 from arr1 by slicing data from it arr1[1][8:10]\n",
      "                                                          \n",
      "arr4 --> [309]\n",
      "                                                          \n",
      "Type of arr4 --> <class 'numpy.ndarray'>\n",
      "                                                          \n",
      "Modifying value of arr4 fro 309 to 209 --> arr4[0] = 209\n",
      "                                                          \n",
      "New value of arr4 --> [209]\n",
      "                                                          \n",
      "New value of arr1 --> \n",
      "[[100 101 102 103 104 105 106 107 108 109]\n",
      " [200 201 202 203 204 205 206 207 208 209]]\n",
      "                                                          \n",
      "==========================================================\n"
     ]
    }
   ],
   "source": [
    "##----trying to create view on arr1 by slicing data data from it\n",
    "arr3 = arr1[:][:]\n",
    "print(\"==========================================================\")\n",
    "print(\"                                                          \")\n",
    "print(\"arr3 --> \")\n",
    "print(arr3)\n",
    "print(\"                                                          \")\n",
    "print(\"==========================================================\")\n",
    "print(\"                                                          \")\n",
    "print(\"Modifying value of arr3[1,9] from 209 to 309\")\n",
    "arr3[1,9] = 309\n",
    "print(\"                                                          \")\n",
    "print(\"==========================================================\")\n",
    "print(\"                                                          \")\n",
    "print(\"Now arr3 --> \")\n",
    "print(arr3)\n",
    "print(\"                                                          \")\n",
    "print(\"==========================================================\")\n",
    "print(\"                                                          \")\n",
    "print(\"Value of arr1[1,9] is also modified now --> \")\n",
    "print(arr1)\n",
    "print(\"                                                          \")\n",
    "print(\"==========================================================\")\n",
    "print(\"                                                          \")\n",
    "print(\"Creating another array arr4 from arr1 by slicing data from it arr1[1][8:10]\")\n",
    "print(\"                                                          \")\n",
    "arr4 = arr1[1][9:10]\n",
    "print(\"arr4 --> \" + str(arr4))\n",
    "print(\"                                                          \")\n",
    "print(\"Type of arr4 --> \" + str(type(arr4)))\n",
    "print(\"                                                          \")\n",
    "print(\"Modifying value of arr4 fro 309 to 209 --> arr4[0] = 209\")\n",
    "print(\"                                                          \")\n",
    "arr4[0] = 209\n",
    "print(\"New value of arr4 --> \" + str(arr4))\n",
    "print(\"                                                          \")\n",
    "print(\"New value of arr1 --> \")\n",
    "print(arr1)\n",
    "print(\"                                                          \")\n",
    "print(\"==========================================================\")"
   ]
  },
  {
   "cell_type": "code",
   "execution_count": null,
   "metadata": {},
   "outputs": [],
   "source": []
  }
 ],
 "metadata": {
  "kernelspec": {
   "display_name": "Python 3",
   "language": "python",
   "name": "python3"
  },
  "language_info": {
   "codemirror_mode": {
    "name": "ipython",
    "version": 3
   },
   "file_extension": ".py",
   "mimetype": "text/x-python",
   "name": "python",
   "nbconvert_exporter": "python",
   "pygments_lexer": "ipython3",
   "version": "3.6.5"
  }
 },
 "nbformat": 4,
 "nbformat_minor": 2
}
